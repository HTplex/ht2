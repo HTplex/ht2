{
 "cells": [
  {
   "cell_type": "code",
   "execution_count": 11,
   "id": "7660f6aa-2a5b-4891-83c9-3c55f1c60db9",
   "metadata": {},
   "outputs": [
    {
     "name": "stderr",
     "output_type": "stream",
     "text": [
      "3673175it [01:13, 49850.63it/s]\n"
     ]
    }
   ],
   "source": [
    "from lxml import etree\n",
    "from collections import defaultdict\n",
    "\n",
    "source = '/Users/agent_h/Downloads/math.stackexchange.com/Posts.xml'\n",
    "\n",
    "from tqdm import tqdm\n",
    "import json\n",
    "from lxml import etree\n",
    "\n",
    "def xml_rows_to_jsonl(xml_path, jsonl_path):\n",
    "    \"\"\"\n",
    "    Convert XML <row> tags to JSONL.\n",
    "    \n",
    "    xml_path: path to the input XML file\n",
    "    jsonl_path: path to the output JSONL file\n",
    "    \"\"\"\n",
    "\n",
    "    # Use iterparse to process the XML file in a streaming fashion\n",
    "    context = etree.iterparse(xml_path, events=(\"end\",), tag=\"row\")\n",
    "    \n",
    "    with open(jsonl_path, 'w') as jsonl_file:\n",
    "        for _, elem in tqdm(context):\n",
    "            # Convert the XML element's attributes to a dictionary\n",
    "            data = dict(elem.attrib)\n",
    "            # Convert dictionary to JSON and write to the JSONL file\n",
    "            jsonl_file.write(json.dumps(data) + '\\n')\n",
    "            # Clear the element to free up memory\n",
    "            elem.clear()\n",
    "\n",
    "# Example usage\n",
    "xml_rows_to_jsonl(source, \"output.jsonl\")"
   ]
  },
  {
   "cell_type": "code",
   "execution_count": null,
   "id": "1fc9fe9b-a26a-4ce1-bb8b-6f9af1aa0ff2",
   "metadata": {},
   "outputs": [],
   "source": []
  }
 ],
 "metadata": {
  "kernelspec": {
   "display_name": "Python 3 (ipykernel)",
   "language": "python",
   "name": "python3"
  },
  "language_info": {
   "codemirror_mode": {
    "name": "ipython",
    "version": 3
   },
   "file_extension": ".py",
   "mimetype": "text/x-python",
   "name": "python",
   "nbconvert_exporter": "python",
   "pygments_lexer": "ipython3",
   "version": "3.9.16"
  }
 },
 "nbformat": 4,
 "nbformat_minor": 5
}
