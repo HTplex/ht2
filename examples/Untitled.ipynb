{
 "cells": [
  {
   "cell_type": "code",
   "execution_count": 1,
   "id": "8861592d-8a9d-4893-bc04-5165cf25b142",
   "metadata": {},
   "outputs": [],
   "source": [
    "# example purpose only\n",
    "import sys\n",
    "sys.path.append('../')\n",
    "from src import ht2"
   ]
  },
  {
   "cell_type": "markdown",
   "id": "98de47df-6d66-4ea7-826f-2a8220a6df95",
   "metadata": {},
   "source": [
    "## prepare data"
   ]
  },
  {
   "cell_type": "code",
   "execution_count": 27,
   "id": "ff9a2249-0957-4c5e-8d25-d8a3ffc7cc76",
   "metadata": {},
   "outputs": [
    {
     "name": "stderr",
     "output_type": "stream",
     "text": [
      "100%|█████████████████████████████████| 100000/100000 [00:51<00:00, 1950.49it/s]\n"
     ]
    },
    {
     "data": {
      "image/png": "[encoded data removed]",
      "text/plain": [
       "<Figure size 2000x300 with 1 Axes>"
      ]
     },
     "metadata": {},
     "output_type": "display_data"
    }
   ],
   "source": [
    "# lmdb image packer\n",
    "from tqdm import tqdm\n",
    "import numpy as np\n",
    "import os\n",
    "from os.path import join\n",
    "import cv2\n",
    "from uuid import uuid4\n",
    "\n",
    "# step up\n",
    "tmp_data_path = \"/data/ht2_tmp/lmdb/\"\n",
    "tmp_imgs_path = join(tmp_data_path,\"imgs\")\n",
    "os.makedirs(tmp_imgs_path,exist_ok=True)\n",
    "\n",
    "# create image bag\n",
    "tiny_imgs = []\n",
    "for i in tqdm(range(100000)): # 5GB mem\n",
    "    img_id = str(uuid4())\n",
    "    tiny_img = np.random.randint(256, size=[11,11,3],dtype=np.uint8)\n",
    "    tiny_img = cv2.resize(tiny_img,(256,256),interpolation=cv2.INTER_NEAREST)\n",
    "    tiny_imgs.append({\"id\":img_id,\n",
    "                      \"img\":tiny_img,\n",
    "                      \"label\":str(np.sum(tiny_img))}\n",
    "                      )\n",
    "# show example image\n",
    "ht2.show_img_np(tiny_imgs[0][\"img\"])\n"
   ]
  },
  {
   "cell_type": "code",
   "execution_count": 28,
   "id": "8aba8b63-8898-4826-9d99-05f59dd57ef0",
   "metadata": {},
   "outputs": [
    {
     "name": "stderr",
     "output_type": "stream",
     "text": [
      "100%|██████████████████████████████████| 100000/100000 [04:18<00:00, 386.27it/s]\n"
     ]
    }
   ],
   "source": [
    "ht2.export_lmdb(tiny_imgs, export_path = join(tmp_data_path,\"tiny_imgs\"), encoder=lambda x: ht2.smart_encode_from_key(x))"
   ]
  },
  {
   "cell_type": "code",
   "execution_count": null,
   "id": "1a3d160c-0561-4c1f-ba94-0de5adee39cf",
   "metadata": {},
   "outputs": [
    {
     "name": "stderr",
     "output_type": "stream",
     "text": [
      "168454it [01:23, 2062.65it/s]"
     ]
    }
   ],
   "source": [
    "\n",
    "from os.path import join\n",
    "tmp_data_path = \"/data/ht2_tmp/lmdb/\"\n",
    "data_list = ht2.import_lmdb(join(tmp_data_path,\"tiny_imgs\"),decoder = lambda x: ht2.smart_decode_from_key(x))"
   ]
  },
  {
   "cell_type": "code",
   "execution_count": 27,
   "id": "07eeacd3-7019-4aa6-90a1-7b171de6a85b",
   "metadata": {},
   "outputs": [
    {
     "name": "stderr",
     "output_type": "stream",
     "text": [
      "300000it [00:00, 1557225.56it/s]\n"
     ]
    }
   ],
   "source": [
    "import lmdb\n",
    "\n",
    "data_dir = join(tmp_data_path,\"tiny_imgs\")\n",
    "lmdb_env = lmdb.open(data_dir)\n",
    "lmdb_txn = lmdb_env.begin()\n",
    "lmdb_cursor = lmdb_txn.cursor()\n",
    "\n",
    "for key, value in tqdm(lmdb_cursor):\n",
    "    pass"
   ]
  },
  {
   "cell_type": "code",
   "execution_count": 29,
   "id": "3f9a8bfe-4f97-48f1-b71a-a855b88d29f9",
   "metadata": {},
   "outputs": [
    {
     "name": "stderr",
     "output_type": "stream",
     "text": [
      "100%|██████████████████████████████████| 100000/100000 [05:14<00:00, 318.03it/s]\n"
     ]
    },
    {
     "name": "stdout",
     "output_type": "stream",
     "text": [
      "[time] save jpgs:  314.4493751525879\n",
      "[size] img folder size: 1428.4047 MB\n"
     ]
    },
    {
     "name": "stderr",
     "output_type": "stream",
     "text": [
      "100%|██████████████████████████████████| 100000/100000 [02:38<00:00, 630.23it/s]\n"
     ]
    },
    {
     "name": "stdout",
     "output_type": "stream",
     "text": [
      "[time] load jpgs:  159.0635175704956\n",
      "zipping... \n",
      "[time] zip imgs: 67.1841s\n",
      "[size] zip size: 1426.8286 MB\n",
      "[time] unzip imgs: 26.3767s\n"
     ]
    }
   ],
   "source": [
    "# test regular jpg save\n",
    "from time import time\n",
    "import uuid\n",
    "from os.path import join\n",
    "import cv2\n",
    "from glob import glob\n",
    "## test save jpgs time\n",
    "t = time()\n",
    "for data in tqdm(tiny_imgs):\n",
    "    img_id = str(uuid.uuid4())\n",
    "    path = join(tmp_data_path,\"imgs\",img_id+\".jpg\")\n",
    "    cv2.imwrite(path,\n",
    "                data['img'],\n",
    "                [cv2.IMWRITE_JPEG_OPTIMIZE, int(True), cv2.IMWRITE_JPEG_QUALITY, 95])\n",
    "print(\"[time] save jpgs: \",time()-t)\n",
    "print(\"[size] img folder size: {:.4f} MB\".format(ht2.get_folder_size(tmp_imgs_path)/1024/1024))\n",
    "# test load jpgs time\n",
    "t = time()\n",
    "loaded_imgs = []\n",
    "for path in tqdm(glob(join(tmp_imgs_path,\"*.jpg\"))):\n",
    "    loaded_imgs.append(cv2.imread(path))\n",
    "print(\"[time] load jpgs: \",time()-t)\n",
    "\n",
    "\n",
    "\n"
   ]
  },
  {
   "cell_type": "code",
   "execution_count": 7,
   "id": "96f6764a-0c59-4fd3-b8bc-222695d1c189",
   "metadata": {},
   "outputs": [],
   "source": [
    "import shutil\n",
    "shutil.rmtree(tmp_data_path)\n"
   ]
  },
  {
   "cell_type": "code",
   "execution_count": 35,
   "id": "3a697a52-221a-42ef-b5ac-404ebcfb7933",
   "metadata": {},
   "outputs": [
    {
     "name": "stdout",
     "output_type": "stream",
     "text": [
      "409.4754 MB\n",
      "zipping... \n",
      "[time] zip imgs: 10.5530s\n",
      "[size] zip size: 410.9881 MB\n",
      "[time] unzip imgs: 0.0498s\n"
     ]
    },
    {
     "name": "stderr",
     "output_type": "stream",
     "text": [
      "replace data/ht2_tmp/lmdb/imgs/105c5664-0dcd-4b88-873d-1f20061a7a38.jpg? [y]es, [n]o, [A]ll, [N]one, [r]ename:  NULL\n",
      "(EOF or read error, treating as \"[N]one\" ...)\n"
     ]
    }
   ],
   "source": [
    "print(\"{:.4f} MB\".format(get_size(tmp_imgs_path)/1024/1024))\n",
    "\n",
    "\n",
    "\n",
    "output_folder = \"tmp_data_path\"\n",
    "\n",
    "os.makedirs(outputPath, exist_ok=True)\n",
    "env = lmdb.open(outputPath, map_size=2**40)\n",
    "\n",
    "cache = {}\n",
    "cnt = 1\n",
    "\n",
    "\n",
    "nSamples = len(labels)\n",
    "for i, line in tqdm(enumerate(labels)):\n",
    "    imagePath, label = line\n",
    "\n",
    "\n",
    "    imageKey = str(uuid.uuid)\n",
    "    labelKey = 'label-%09d'.encode() % cnt\n",
    "    cache[imageKey] = imageBin\n",
    "    cache[labelKey] = label.encode()\n",
    "\n",
    "    if cnt % 100000 == 0:\n",
    "        writeCache(env, cache)\n",
    "        cache = {}\n",
    "        print('Written %d / %d' % (cnt, nSamples))bb\n",
    "    cnt += 1\n",
    "nSamples = cnt - 1\n",
    "cache['num-samples'.encode()] = str(nSamples).encode()\n",
    "writeCache(env, cache)\n",
    "env.close()\n",
    "print('Created dataset with %d samples' % nSamples)\n",
    "\n"
   ]
  },
  {
   "cell_type": "code",
   "execution_count": null,
   "id": "592e9b93-b09d-45dc-9e68-efa6632b1747",
   "metadata": {},
   "outputs": [],
   "source": []
  },
  {
   "cell_type": "code",
   "execution_count": null,
   "id": "8149bfbf-7cba-47e3-af7a-e26b8bd10a30",
   "metadata": {},
   "outputs": [],
   "source": [
    "import ht2\n",
    "import json\n",
    "from os.path import join, exists\n",
    "import cv2\n",
    "from tqdm import tqdm\n",
    "import re\n",
    "import os\n",
    "import random\n",
    "random.seed(123)\n",
    "import io\n",
    "import os\n",
    "import lmdb\n",
    "import numpy as np\n",
    "from PIL import Image\n",
    "from tools.data_gen_ops import *\n",
    "from glob import glob\n",
    "\n",
    "\n",
    "\n",
    "# configs\n",
    "blocked_chars = [\"\\\\cdots\",\"\\cmark\",\"\\\\textcircled\",\"\\\\frac\",\"<unk>\"]\n",
    "basic_chars = \"0123456789abcdefghijklmnopqrstuvwxyzABCDEFGHIJKLMNOPQRSTUVWXYZ!\\\"#$%&'()*+,-./:;<=>?@[\\\\]^_`{|}~\"\n",
    "replace_dict = {\"\\\\deletion\":\" \",\n",
    "                \"\\\\tab\":\"\\\\\",\n",
    "                \"\\\\prime\":\"\\'\",\n",
    "                \"\\\\[\":\"[\",\n",
    "                \"\\\\]\":\"]\",\n",
    "                \"\\\\(\":\"(\",\n",
    "                \"\\\\)\":\")\",\n",
    "                \"、\":\",\",\n",
    "                \"\\\\xmark\":\"x\",\n",
    "                \"\\$\":\"$\",\n",
    "                \"\\\\times\":\"x\",\n",
    "                \"{\":\"\",\n",
    "                \"}\":\"\",\n",
    "                \"\\\\insert\":\" \",\n",
    "                \"\\\\grave\":\" \",\n",
    "                \"《\":\"< <\",\n",
    "                \"》\":\"> >\",\n",
    "                \"。\":\".\",\n",
    "                \"\\%\":\"%\",\n",
    "               }\n",
    "\n",
    "def classic_tr_data_to_label(json_path, img_root, ext):\n",
    "    print(json_path)\n",
    "    data = json.load(open(json_path, 'r'))\n",
    "    labels = []\n",
    "    for img_id,label in tqdm(list(data.items())[:]):\n",
    "        img_path = join(img_root,img_id+\".\"+ext)\n",
    "        if not exists(img_path):\n",
    "            img_path = join(img_root,img_id+\"_move.\"+ext)\n",
    "        if not exists(img_path):\n",
    "            img_path = join(img_root,img_id+\"_touch.\"+ext)\n",
    "        if not exists(img_path):\n",
    "            img_path = join(img_root,img_id+\"_overlap.\"+ext)\n",
    "        if not exists(img_path):\n",
    "            print(\"not exist: \", img_path)\n",
    "            continue        \n",
    "        # print(label)\n",
    "        if type(label) == dict:\n",
    "            raw_label = label[\"label\"]\n",
    "        else:\n",
    "            raw_label = label\n",
    "        for orig,target in replace_dict.items():\n",
    "            raw_label = raw_label.replace(orig,target)\n",
    "        orig_chars = raw_label.split(\" \")\n",
    "        \n",
    "        select_label = True\n",
    "        for char in orig_chars:\n",
    "            if is_chinese_char(char):\n",
    "                select_label = False\n",
    "                continue\n",
    "            if char in blocked_chars:\n",
    "                select_label = False\n",
    "                continue\n",
    "            if char not in basic_chars:\n",
    "                # print(label[\"label\"])\n",
    "                # img = cv2.imread(img_path)\n",
    "                # ht2.show_img_np(img)\n",
    "                select_label = False\n",
    "                break\n",
    "        if select_label:\n",
    "            raw_label = raw_label.replace(\" \",\"\")\n",
    "            raw_label = raw_label.replace(\"\\\\\",\" \")\n",
    "            raw_label = re.sub('([.,!?()])', r'\\1 ', raw_label)\n",
    "            raw_label = re.sub('\\s{2,}', ' ', raw_label)\n",
    "            re.sub('\\?[A-Z]', '\\? ', raw_label)\n",
    "            raw_label = raw_label.replace(\" \",\"_\")\n",
    "            # print(raw_label)\n",
    "            labels.append([img_path,raw_label]) \n",
    "    return labels\n",
    "\n",
    "data_list = [\n",
    "             [\"/data/eng_word_gen_ims_htx_0525/0.json\",\"/data/eng_word_gen_ims_htx_0525/images/\",\"jpg\"],\n",
    "             [\"/data/eng_word_gen_ims_htx_0525/1.json\",\"/data/eng_word_gen_ims_htx_0525/images/\",\"jpg\"],\n",
    "             [\"/data/eng_word_gen_ims_htx_0525/2.json\",\"/data/eng_word_gen_ims_htx_0525/images/\",\"jpg\"],\n",
    "             [\"/data/eng_word_gen_ims_htx_0525/3.json\",\"/data/eng_word_gen_ims_htx_0525/images/\",\"jpg\"],\n",
    "             [\"/data/eng_word_gen_ims_htx_0525/4.json\",\"/data/eng_word_gen_ims_htx_0525/images/\",\"jpg\"],\n",
    "             [\"/data/eng_word_gen_ims_htx_0525/5.json\",\"/data/eng_word_gen_ims_htx_0525/images/\",\"jpg\"],\n",
    "    \n",
    "            [\"/data/eng_data/train_english_combined.json\",\"/data/eng_data/train_english/\",\"png\"],\n",
    "                     [\"/data/eng_data/plabel_eng_prod.json\",\"/data/eng_data/plabel_eng_prod/\",\"jpg\"]\n",
    "            ]\n",
    "\n",
    "labels = []\n",
    "for json_path, img_root, ext in data_list:\n",
    "    labels+=(classic_tr_data_to_label(json_path, img_root, ext))\n",
    "    print(len(labels))\n",
    "random.shuffle(labels)\n",
    "\n",
    "\n",
    "\n",
    "\n",
    "\n",
    "# TODO streamline this\n",
    "def save_data(outputPath,labels):\n",
    "    checkValid = True\n",
    "    os.makedirs(outputPath, exist_ok=True)\n",
    "    env = lmdb.open(outputPath, map_size=1099511627776)\n",
    "\n",
    "    cache = {}\n",
    "    cnt = 1\n",
    "\n",
    "\n",
    "    nSamples = len(labels)\n",
    "    for i, line in tqdm(enumerate(labels)):\n",
    "        imagePath, label = line\n",
    "\n",
    "        if checkValid:\n",
    "            try:\n",
    "                with open(imagePath, 'rb') as f:\n",
    "                    imageBin = f.read()\n",
    "                img = Image.open(io.BytesIO(imageBin)).convert('RGB')\n",
    "            except:\n",
    "                with open(outputPath + '/error_image_log.txt', 'a') as log:\n",
    "                    log.write('{}-th image data occured error: {}, {}\\n'.format(i, imagePath, \"\"))\n",
    "                print(\"bad image\", imagePath)\n",
    "                continue\n",
    "            if np.prod(img.size) == 0:\n",
    "                print('%s is not a valid image' % imagePath)\n",
    "                continue\n",
    "\n",
    "        imageKey = 'image-%09d'.encode() % cnt\n",
    "        labelKey = 'label-%09d'.encode() % cnt\n",
    "        cache[imageKey] = imageBin\n",
    "        cache[labelKey] = label.encode()\n",
    "\n",
    "        if cnt % 100000 == 0:\n",
    "            writeCache(env, cache)\n",
    "            cache = {}\n",
    "            print('Written %d / %d' % (cnt, nSamples))\n",
    "        cnt += 1\n",
    "    nSamples = cnt - 1\n",
    "    cache['num-samples'.encode()] = str(nSamples).encode()\n",
    "    writeCache(env, cache)\n",
    "    env.close()\n",
    "    print('Created dataset with %d samples' % nSamples)\n",
    "\n",
    "save_data(\"/data/parseq_train_04/train/real/\",labels[:-20000])\n",
    "save_data(\"/data/parseq_train_04/val/\",labels[-20000:-10000])\n",
    "save_data(\"/data/parseq_train_04/test/\",labels[-10000:])\n",
    "\n",
    "\n"
   ]
  }
 ],
 "metadata": {
  "kernelspec": {
   "display_name": "Python 3 (ipykernel)",
   "language": "python",
   "name": "python3"
  },
  "language_info": {
   "codemirror_mode": {
    "name": "ipython",
    "version": 3
   },
   "file_extension": ".py",
   "mimetype": "text/x-python",
   "name": "python",
   "nbconvert_exporter": "python",
   "pygments_lexer": "ipython3",
   "version": "3.9.16"
  }
 },
 "nbformat": 4,
 "nbformat_minor": 5
}
