{
 "cells": [
  {
   "cell_type": "code",
   "execution_count": 1,
   "id": "9a72b925-7e86-4594-b58d-82d20971c689",
   "metadata": {},
   "outputs": [
    {
     "name": "stdout",
     "output_type": "stream",
     "text": [
      "download https://paddleocr.bj.bcebos.com/PP-OCRv4/chinese/ch_PP-OCRv4_det_infer.tar to /Users/agent_h/.paddleocr/whl/det/ch/ch_PP-OCRv4_det_infer/ch_PP-OCRv4_det_infer.tar\n"
     ]
    },
    {
     "name": "stderr",
     "output_type": "stream",
     "text": [
      "100%|███████████████████████████████████████████████████████████████████████| 4.89M/4.89M [00:06<00:00, 733kiB/s]\n"
     ]
    },
    {
     "name": "stdout",
     "output_type": "stream",
     "text": [
      "download https://paddleocr.bj.bcebos.com/PP-OCRv4/chinese/ch_PP-OCRv4_rec_infer.tar to /Users/agent_h/.paddleocr/whl/rec/ch/ch_PP-OCRv4_rec_infer/ch_PP-OCRv4_rec_infer.tar\n"
     ]
    },
    {
     "name": "stderr",
     "output_type": "stream",
     "text": [
      "100%|██████████████████████████████████████████████████████████████████████| 11.0M/11.0M [00:09<00:00, 1.22MiB/s]\n"
     ]
    },
    {
     "name": "stdout",
     "output_type": "stream",
     "text": [
      "download https://paddleocr.bj.bcebos.com/dygraph_v2.0/ch/ch_ppocr_mobile_v2.0_cls_infer.tar to /Users/agent_h/.paddleocr/whl/cls/ch_ppocr_mobile_v2.0_cls_infer/ch_ppocr_mobile_v2.0_cls_infer.tar\n"
     ]
    },
    {
     "name": "stderr",
     "output_type": "stream",
     "text": [
      "100%|███████████████████████████████████████████████████████████████████████| 2.19M/2.19M [00:03<00:00, 585kiB/s]"
     ]
    },
    {
     "name": "stdout",
     "output_type": "stream",
     "text": [
      "[2023/08/17 11:43:40] ppocr DEBUG: Namespace(help='==SUPPRESS==', use_gpu=False, use_xpu=False, use_npu=False, ir_optim=True, use_tensorrt=False, min_subgraph_size=15, precision='fp32', gpu_mem=500, gpu_id=0, image_dir=None, page_num=0, det_algorithm='DB', det_model_dir='/Users/agent_h/.paddleocr/whl/det/ch/ch_PP-OCRv4_det_infer', det_limit_side_len=960, det_limit_type='max', det_box_type='quad', det_db_thresh=0.3, det_db_box_thresh=0.6, det_db_unclip_ratio=1.5, max_batch_size=10, use_dilation=False, det_db_score_mode='fast', det_east_score_thresh=0.8, det_east_cover_thresh=0.1, det_east_nms_thresh=0.2, det_sast_score_thresh=0.5, det_sast_nms_thresh=0.2, det_pse_thresh=0, det_pse_box_thresh=0.85, det_pse_min_area=16, det_pse_scale=1, scales=[8, 16, 32], alpha=1.0, beta=1.0, fourier_degree=5, rec_algorithm='SVTR_LCNet', rec_model_dir='/Users/agent_h/.paddleocr/whl/rec/ch/ch_PP-OCRv4_rec_infer', rec_image_inverse=True, rec_image_shape='3, 48, 320', rec_batch_num=6, max_text_length=25, rec_char_dict_path='/Users/agent_h/miniconda3/envs/cv/lib/python3.9/site-packages/paddleocr/ppocr/utils/ppocr_keys_v1.txt', use_space_char=True, vis_font_path='./doc/fonts/simfang.ttf', drop_score=0.5, e2e_algorithm='PGNet', e2e_model_dir=None, e2e_limit_side_len=768, e2e_limit_type='max', e2e_pgnet_score_thresh=0.5, e2e_char_dict_path='./ppocr/utils/ic15_dict.txt', e2e_pgnet_valid_set='totaltext', e2e_pgnet_mode='fast', use_angle_cls=True, cls_model_dir='/Users/agent_h/.paddleocr/whl/cls/ch_ppocr_mobile_v2.0_cls_infer', cls_image_shape='3, 48, 192', label_list=['0', '180'], cls_batch_num=6, cls_thresh=0.9, enable_mkldnn=False, cpu_threads=10, use_pdserving=False, warmup=False, sr_model_dir=None, sr_image_shape='3, 32, 128', sr_batch_num=1, draw_img_save_dir='./inference_results', save_crop_res=False, crop_res_save_dir='./output', use_mp=False, total_process_num=1, process_id=0, benchmark=False, save_log_path='./log_output/', show_log=True, use_onnx=False, return_word_box=False, output='./output', table_max_len=488, table_algorithm='TableAttn', table_model_dir=None, merge_no_span_structure=True, table_char_dict_path=None, layout_model_dir=None, layout_dict_path=None, layout_score_threshold=0.5, layout_nms_threshold=0.5, kie_algorithm='LayoutXLM', ser_model_dir=None, re_model_dir=None, use_visual_backbone=True, ser_dict_path='../train_data/XFUND/class_list_xfun.txt', ocr_order_method=None, mode='structure', image_orientation=False, layout=True, table=True, ocr=True, recovery=False, use_pdf2docx_api=False, lang='ch', det=True, rec=True, type='ocr', ocr_version='PP-OCRv4', structure_version='PP-StructureV2')\n"
     ]
    },
    {
     "name": "stderr",
     "output_type": "stream",
     "text": [
      "\n"
     ]
    }
   ],
   "source": [
    "from paddleocr import PaddleOCR, draw_ocr\n",
    "\n",
    "# Paddleocr目前支持的多语言语种可以通过修改lang参数进行切换\n",
    "# 例如`ch`, `en`, `fr`, `german`, `korean`, `japan`\n",
    "ocr = PaddleOCR(use_angle_cls=True, lang=\"ch\",ocr_version=\"PP-OCRv4\",)  # n"
   ]
  },
  {
   "cell_type": "code",
   "execution_count": 13,
   "id": "e5cdd3a4-0eb5-49f6-aa71-0ec276730c11",
   "metadata": {},
   "outputs": [
    {
     "name": "stdout",
     "output_type": "stream",
     "text": [
      "[2023/08/17 12:21:39] ppocr DEBUG: dt_boxes num : 40, elapse : 0.4525339603424072\n",
      "[2023/08/17 12:21:39] ppocr DEBUG: cls num  : 40, elapse : 0.18750882148742676\n",
      "[2023/08/17 12:21:49] ppocr DEBUG: rec_res num  : 40, elapse : 10.114781141281128\n",
      "[[[882.0, 123.0], [1040.0, 123.0], [1040.0, 148.0], [882.0, 148.0]], ('HOUHAI', 0.9341206550598145)]\n",
      "[[[886.0, 148.0], [1038.0, 148.0], [1038.0, 172.0], [886.0, 172.0]], ('HARBOUR', 0.9764996767044067)]\n",
      "[[[884.0, 172.0], [949.0, 172.0], [949.0, 193.0], [884.0, 193.0]], ('后海汇', 0.9950072765350342)]\n",
      "[[[311.0, 212.0], [341.0, 212.0], [341.0, 232.0], [311.0, 232.0]], ('(4)', 0.6525374054908752)]\n",
      "[[[382.0, 205.0], [1112.0, 203.0], [1112.0, 230.0], [382.0, 232.0]], ('若出租方及/或物业管理人直接或间接因承租方排放废气或因承租', 0.9979680180549622)]\n",
      "[[[386.0, 238.0], [1114.0, 238.0], [1114.0, 265.0], [386.0, 265.0]], ('方产生的废物或污物遭受任何损失或受到任何伤害，承租方应照实', 0.9985224008560181)]\n",
      "[[[386.0, 273.0], [786.0, 273.0], [786.0, 298.0], [386.0, 298.0]], ('向出租方及/或物业管理人作出赔偿。', 0.9894267916679382)]\n",
      "[[[230.0, 327.0], [410.0, 327.0], [410.0, 353.0], [230.0, 353.0]], ('2.05禁止吸烟', 0.9976633787155151)]\n",
      "[[[309.0, 382.0], [829.0, 382.0], [829.0, 407.0], [309.0, 407.0]], ('承租方须妥善管理并确保承租物业内禁止吸烟。', 0.9940759539604187)]\n",
      "[[[230.0, 437.0], [537.0, 437.0], [537.0, 462.0], [230.0, 462.0]], ('2.06清理排废设备及费用', 0.9987599849700928)]\n",
      "[[[311.0, 491.0], [1112.0, 491.0], [1112.0, 516.0], [311.0, 516.0]], ('出租方在商场内所提供的公共排废气漕、公共排油烟网须由出租方及/或', 0.9892683029174805)]\n",
      "[[[307.0, 522.0], [1085.0, 520.0], [1085.0, 548.0], [307.0, 550.0]], ('物业管理人定期进行清洁，同时承租方应提供必要的方便以协助进行。', 0.9986150860786438)]\n",
      "[[[228.0, 579.0], [411.0, 577.0], [412.0, 604.0], [229.0, 606.0]], ('2.07预付费卡', 0.9996063709259033)]\n",
      "[[[309.0, 633.0], [1114.0, 633.0], [1114.0, 659.0], [309.0, 659.0]], ('若承租方拟以预收款项并发行预付费卡（包括但不限于：发行消费卡、会', 0.9978664517402649)]\n",
      "[[[311.0, 667.0], [1112.0, 667.0], [1112.0, 694.0], [311.0, 694.0]], ('员卡、储值卡等，以下统称“预付费卡”的方式提供商品或者服务的，应遵', 0.9832603931427002)]\n",
      "[[[309.0, 700.0], [447.0, 700.0], [447.0, 727.0], [309.0, 727.0]], ('循以下约定：', 0.99741530418396)]\n",
      "[[[305.0, 731.0], [1112.0, 729.0], [1112.0, 762.0], [305.0, 764.0]], ('（1）承租方应事先取得发行该等预付费卡的全部资格及资质。若承租方', 0.9878572225570679)]\n",
      "[[[368.0, 770.0], [1112.0, 770.0], [1112.0, 797.0], [368.0, 797.0]], ('擅自发行预付费卡，将视为严重性违约，出租方有权根据本合同补', 0.989319920539856)]\n",
      "[[[366.0, 807.0], [819.0, 807.0], [819.0, 832.0], [366.0, 832.0]], ('充条款第6.05条追究承租方的违约责任。', 0.9985402226448059)]\n",
      "[[[307.0, 860.0], [1114.0, 858.0], [1114.0, 885.0], [307.0, 887.0]], ('（2）承租方应将其预付费卡销售及预付费卡的使用情况每月书面向出租', 0.9845330119132996)]\n",
      "[[[366.0, 895.0], [1110.0, 893.0], [1110.0, 920.0], [366.0, 922.0]], ('方予以披露，对于该等预付费卡在该月发生的实际消费收入，应计', 0.9992278814315796)]\n",
      "[[[370.0, 932.0], [1114.0, 932.0], [1114.0, 957.0], [370.0, 957.0]], ('算入承租物业当月的总营业额中。且该等预付费卡的有效期不得超', 0.9982397556304932)]\n",
      "[[[368.0, 969.0], [587.0, 969.0], [587.0, 994.0], [368.0, 994.0]], ('过本合同的租赁期。', 0.9986813068389893)]\n",
      "[[[307.0, 1021.0], [1114.0, 1017.0], [1114.0, 1045.0], [307.0, 1049.0]], ('(3）如果双方没有续租意向或未就续租事宜达成一致的，承租方应在本', 0.9895322918891907)]\n",
      "[[[370.0, 1056.0], [1112.0, 1056.0], [1112.0, 1082.0], [370.0, 1082.0]], ('合同届满日之前三个月/提前终止日之前十五日内，在承租物业内的', 0.9932053089141846)]\n",
      "[[[368.0, 1091.0], [1112.0, 1089.0], [1112.0, 1117.0], [368.0, 1119.0]], ('显著位置以令出租方满意的方式张贴告示，告知所有预付费卡持有', 0.9987550973892212)]\n",
      "[[[370.0, 1128.0], [1112.0, 1128.0], [1112.0, 1154.0], [370.0, 1154.0]], ('人承租物业租赁期即将届满的相关事实，并与预付费卡持有人妥善', 0.9976999759674072)]\n",
      "[[[368.0, 1164.0], [1112.0, 1162.0], [1112.0, 1189.0], [368.0, 1191.0]], ('处理该预付费卡的后续处理问题。若承租方违反前述约定的，则出', 0.9995852112770081)]\n",
      "[[[370.0, 1201.0], [1112.0, 1201.0], [1112.0, 1226.0], [370.0, 1226.0]], ('租方有权在租赁期届满之前的任何时间内在商场的显著位置代为告', 0.996774435043335)]\n",
      "[[[370.0, 1238.0], [504.0, 1238.0], [504.0, 1259.0], [370.0, 1259.0]], ('知前述事项。', 0.9991276264190674)]\n",
      "[[[309.0, 1290.0], [1116.0, 1286.0], [1116.0, 1314.0], [309.0, 1318.0]], ('（4）无论在任何时间内，预付费卡持有人要求退回预付款的，承租方应', 0.9900967478752136)]\n",
      "[[[370.0, 1325.0], [1112.0, 1323.0], [1112.0, 1351.0], [370.0, 1353.0]], ('当自行承担退还的本金及利息以及相关方必须支付的费用，出租方', 0.9995980262756348)]\n",
      "[[[368.0, 1360.0], [1099.0, 1360.0], [1099.0, 1386.0], [368.0, 1386.0]], ('就此预付费卡不承担任何责任，且无需经过承租方同意的前提下，', 0.9987283945083618)]\n",
      "[[[368.0, 1397.0], [1114.0, 1395.0], [1114.0, 1423.0], [368.0, 1425.0]], ('出租方有权向任何预付费卡持有人披露承租方的信息（包括但不限', 0.9983214735984802)]\n",
      "[[[372.0, 1432.0], [949.0, 1432.0], [949.0, 1460.0], [372.0, 1460.0]], ('于：联系方式、联系人、其他经营场所及负责人等）。', 0.9918737411499023)]\n",
      "[[[307.0, 1487.0], [1114.0, 1483.0], [1114.0, 1510.0], [307.0, 1514.0]], ('（5）若承租方违反前述约定，造成出租方损失的，在不影响出租方在本', 0.9894105195999146)]\n",
      "[[[370.0, 1522.0], [1116.0, 1522.0], [1116.0, 1547.0], [370.0, 1547.0]], ('合同项下其他救济措施的情况下，出租方有权选择直接以任何保证', 0.9992610216140747)]\n",
      "[[[370.0, 1557.0], [1114.0, 1555.0], [1114.0, 1583.0], [370.0, 1585.0]], ('金（包括但不限于租赁保证金）冲抵该等损失，若保证金不足以弥补', 0.9985817074775696)]\n",
      "[[[370.0, 1594.0], [994.0, 1592.0], [994.0, 1620.0], [370.0, 1622.0]], ('出租方损失的，承租方仍应赔偿出租方未能弥补的损失。', 0.9995275139808655)]\n",
      "[[[667.0, 1684.0], [687.0, 1684.0], [687.0, 1703.0], [667.0, 1703.0]], ('9', 0.9957281947135925)]\n"
     ]
    }
   ],
   "source": [
    "img_path = '/Users/agent_h/Downloads/合同/3/NBSZ8026后海汇租赁合同-1_46.png'\n",
    "result = ocr.ocr(img_path, cls=True)\n",
    "for idx in range(len(result)):\n",
    "    res = result[idx]\n",
    "    for line in res:\n",
    "        print(line)\n",
    "\n",
    "# 显示结果\n"
   ]
  },
  {
   "cell_type": "code",
   "execution_count": 15,
   "id": "53f2d27c-2883-4beb-94be-9f394b71a193",
   "metadata": {},
   "outputs": [
    {
     "ename": "TypeError",
     "evalue": "'float' object is not subscriptable",
     "output_type": "error",
     "traceback": [
      "\u001b[0;31m---------------------------------------------------------------------------\u001b[0m",
      "\u001b[0;31mTypeError\u001b[0m                                 Traceback (most recent call last)",
      "Cell \u001b[0;32mIn[15], line 5\u001b[0m\n\u001b[1;32m      3\u001b[0m image \u001b[38;5;241m=\u001b[39m Image\u001b[38;5;241m.\u001b[39mopen(img_path)\u001b[38;5;241m.\u001b[39mconvert(\u001b[38;5;124m'\u001b[39m\u001b[38;5;124mRGB\u001b[39m\u001b[38;5;124m'\u001b[39m)\n\u001b[1;32m      4\u001b[0m boxes \u001b[38;5;241m=\u001b[39m [line[\u001b[38;5;241m0\u001b[39m] \u001b[38;5;28;01mfor\u001b[39;00m line \u001b[38;5;129;01min\u001b[39;00m result]\n\u001b[0;32m----> 5\u001b[0m txts \u001b[38;5;241m=\u001b[39m [line[\u001b[38;5;241m1\u001b[39m][\u001b[38;5;241m0\u001b[39m] \u001b[38;5;28;01mfor\u001b[39;00m line \u001b[38;5;129;01min\u001b[39;00m result]\n\u001b[1;32m      6\u001b[0m scores \u001b[38;5;241m=\u001b[39m [line[\u001b[38;5;241m1\u001b[39m][\u001b[38;5;241m1\u001b[39m] \u001b[38;5;28;01mfor\u001b[39;00m line \u001b[38;5;129;01min\u001b[39;00m result]\n\u001b[1;32m      7\u001b[0m im_show \u001b[38;5;241m=\u001b[39m draw_ocr(image, boxes, txts, scores, font_path\u001b[38;5;241m=\u001b[39m\u001b[38;5;124m'\u001b[39m\u001b[38;5;124m../data/fonts/simfang.ttf\u001b[39m\u001b[38;5;124m'\u001b[39m)\n",
      "Cell \u001b[0;32mIn[15], line 5\u001b[0m, in \u001b[0;36m<listcomp>\u001b[0;34m(.0)\u001b[0m\n\u001b[1;32m      3\u001b[0m image \u001b[38;5;241m=\u001b[39m Image\u001b[38;5;241m.\u001b[39mopen(img_path)\u001b[38;5;241m.\u001b[39mconvert(\u001b[38;5;124m'\u001b[39m\u001b[38;5;124mRGB\u001b[39m\u001b[38;5;124m'\u001b[39m)\n\u001b[1;32m      4\u001b[0m boxes \u001b[38;5;241m=\u001b[39m [line[\u001b[38;5;241m0\u001b[39m] \u001b[38;5;28;01mfor\u001b[39;00m line \u001b[38;5;129;01min\u001b[39;00m result]\n\u001b[0;32m----> 5\u001b[0m txts \u001b[38;5;241m=\u001b[39m [\u001b[43mline\u001b[49m\u001b[43m[\u001b[49m\u001b[38;5;241;43m1\u001b[39;49m\u001b[43m]\u001b[49m\u001b[43m[\u001b[49m\u001b[38;5;241;43m0\u001b[39;49m\u001b[43m]\u001b[49m \u001b[38;5;28;01mfor\u001b[39;00m line \u001b[38;5;129;01min\u001b[39;00m result]\n\u001b[1;32m      6\u001b[0m scores \u001b[38;5;241m=\u001b[39m [line[\u001b[38;5;241m1\u001b[39m][\u001b[38;5;241m1\u001b[39m] \u001b[38;5;28;01mfor\u001b[39;00m line \u001b[38;5;129;01min\u001b[39;00m result]\n\u001b[1;32m      7\u001b[0m im_show \u001b[38;5;241m=\u001b[39m draw_ocr(image, boxes, txts, scores, font_path\u001b[38;5;241m=\u001b[39m\u001b[38;5;124m'\u001b[39m\u001b[38;5;124m../data/fonts/simfang.ttf\u001b[39m\u001b[38;5;124m'\u001b[39m)\n",
      "\u001b[0;31mTypeError\u001b[0m: 'float' object is not subscriptable"
     ]
    }
   ],
   "source": [
    "from PIL import Image\n",
    "result = result[0]\n",
    "image = Image.open(img_path).convert('RGB')\n",
    "boxes = [line[0] for line in result]\n",
    "txts = [line[1][0] for line in result]\n",
    "scores = [line[1][1] for line in result]\n",
    "im_show = draw_ocr(image, boxes, txts, scores, font_path='../data/fonts/simfang.ttf')\n",
    "im_show = Image.fromarray(im_show)\n",
    "im_show.save('result.jpg')"
   ]
  },
  {
   "cell_type": "code",
   "execution_count": null,
   "id": "394f583a-520d-42ac-b754-16e3ba790806",
   "metadata": {},
   "outputs": [],
   "source": [
    "\n"
   ]
  }
 ],
 "metadata": {
  "kernelspec": {
   "display_name": "Python 3 (ipykernel)",
   "language": "python",
   "name": "python3"
  },
  "language_info": {
   "codemirror_mode": {
    "name": "ipython",
    "version": 3
   },
   "file_extension": ".py",
   "mimetype": "text/x-python",
   "name": "python",
   "nbconvert_exporter": "python",
   "pygments_lexer": "ipython3",
   "version": "3.9.16"
  }
 },
 "nbformat": 4,
 "nbformat_minor": 5
}
